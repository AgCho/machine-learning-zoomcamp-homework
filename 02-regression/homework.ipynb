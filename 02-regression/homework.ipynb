{
 "cells": [
  {
   "cell_type": "code",
   "execution_count": 97,
   "id": "01840f73-421d-422f-bc48-c575cb6575fd",
   "metadata": {},
   "outputs": [
    {
     "data": {
      "text/html": [
       "<div>\n",
       "<style scoped>\n",
       "    .dataframe tbody tr th:only-of-type {\n",
       "        vertical-align: middle;\n",
       "    }\n",
       "\n",
       "    .dataframe tbody tr th {\n",
       "        vertical-align: top;\n",
       "    }\n",
       "\n",
       "    .dataframe thead th {\n",
       "        text-align: right;\n",
       "    }\n",
       "</style>\n",
       "<table border=\"1\" class=\"dataframe\">\n",
       "  <thead>\n",
       "    <tr style=\"text-align: right;\">\n",
       "      <th></th>\n",
       "      <th>engine_displacement</th>\n",
       "      <th>num_cylinders</th>\n",
       "      <th>horsepower</th>\n",
       "      <th>vehicle_weight</th>\n",
       "      <th>acceleration</th>\n",
       "      <th>model_year</th>\n",
       "      <th>origin</th>\n",
       "      <th>fuel_type</th>\n",
       "      <th>drivetrain</th>\n",
       "      <th>num_doors</th>\n",
       "      <th>fuel_efficiency_mpg</th>\n",
       "    </tr>\n",
       "  </thead>\n",
       "  <tbody>\n",
       "    <tr>\n",
       "      <th>0</th>\n",
       "      <td>170</td>\n",
       "      <td>3.0</td>\n",
       "      <td>159.0</td>\n",
       "      <td>3413.433759</td>\n",
       "      <td>17.7</td>\n",
       "      <td>2003</td>\n",
       "      <td>Europe</td>\n",
       "      <td>Gasoline</td>\n",
       "      <td>All-wheel drive</td>\n",
       "      <td>0.0</td>\n",
       "      <td>13.231729</td>\n",
       "    </tr>\n",
       "    <tr>\n",
       "      <th>1</th>\n",
       "      <td>130</td>\n",
       "      <td>5.0</td>\n",
       "      <td>97.0</td>\n",
       "      <td>3149.664934</td>\n",
       "      <td>17.8</td>\n",
       "      <td>2007</td>\n",
       "      <td>USA</td>\n",
       "      <td>Gasoline</td>\n",
       "      <td>Front-wheel drive</td>\n",
       "      <td>0.0</td>\n",
       "      <td>13.688217</td>\n",
       "    </tr>\n",
       "    <tr>\n",
       "      <th>2</th>\n",
       "      <td>170</td>\n",
       "      <td>NaN</td>\n",
       "      <td>78.0</td>\n",
       "      <td>3079.038997</td>\n",
       "      <td>15.1</td>\n",
       "      <td>2018</td>\n",
       "      <td>Europe</td>\n",
       "      <td>Gasoline</td>\n",
       "      <td>Front-wheel drive</td>\n",
       "      <td>0.0</td>\n",
       "      <td>14.246341</td>\n",
       "    </tr>\n",
       "    <tr>\n",
       "      <th>3</th>\n",
       "      <td>220</td>\n",
       "      <td>4.0</td>\n",
       "      <td>NaN</td>\n",
       "      <td>2542.392402</td>\n",
       "      <td>20.2</td>\n",
       "      <td>2009</td>\n",
       "      <td>USA</td>\n",
       "      <td>Diesel</td>\n",
       "      <td>All-wheel drive</td>\n",
       "      <td>2.0</td>\n",
       "      <td>16.912736</td>\n",
       "    </tr>\n",
       "    <tr>\n",
       "      <th>4</th>\n",
       "      <td>210</td>\n",
       "      <td>1.0</td>\n",
       "      <td>140.0</td>\n",
       "      <td>3460.870990</td>\n",
       "      <td>14.4</td>\n",
       "      <td>2009</td>\n",
       "      <td>Europe</td>\n",
       "      <td>Gasoline</td>\n",
       "      <td>All-wheel drive</td>\n",
       "      <td>2.0</td>\n",
       "      <td>12.488369</td>\n",
       "    </tr>\n",
       "  </tbody>\n",
       "</table>\n",
       "</div>"
      ],
      "text/plain": [
       "   engine_displacement  num_cylinders  horsepower  vehicle_weight  \\\n",
       "0                  170            3.0       159.0     3413.433759   \n",
       "1                  130            5.0        97.0     3149.664934   \n",
       "2                  170            NaN        78.0     3079.038997   \n",
       "3                  220            4.0         NaN     2542.392402   \n",
       "4                  210            1.0       140.0     3460.870990   \n",
       "\n",
       "   acceleration  model_year  origin fuel_type         drivetrain  num_doors  \\\n",
       "0          17.7        2003  Europe  Gasoline    All-wheel drive        0.0   \n",
       "1          17.8        2007     USA  Gasoline  Front-wheel drive        0.0   \n",
       "2          15.1        2018  Europe  Gasoline  Front-wheel drive        0.0   \n",
       "3          20.2        2009     USA    Diesel    All-wheel drive        2.0   \n",
       "4          14.4        2009  Europe  Gasoline    All-wheel drive        2.0   \n",
       "\n",
       "   fuel_efficiency_mpg  \n",
       "0            13.231729  \n",
       "1            13.688217  \n",
       "2            14.246341  \n",
       "3            16.912736  \n",
       "4            12.488369  "
      ]
     },
     "execution_count": 97,
     "metadata": {},
     "output_type": "execute_result"
    }
   ],
   "source": [
    "import pandas as pd\n",
    "import numpy as np\n",
    "from sklearn.linear_model import Ridge\n",
    "from sklearn.linear_model import LinearRegression\n",
    "from sklearn.metrics import mean_squared_error\n",
    "\n",
    "df = pd.read_csv('https://raw.githubusercontent.com/alexeygrigorev/datasets/master/car_fuel_efficiency.csv')\n",
    "df.head()"
   ]
  },
  {
   "cell_type": "code",
   "execution_count": 98,
   "id": "404effee-62ea-4760-bb8b-b69a5c5b837d",
   "metadata": {},
   "outputs": [
    {
     "data": {
      "text/html": [
       "<div>\n",
       "<style scoped>\n",
       "    .dataframe tbody tr th:only-of-type {\n",
       "        vertical-align: middle;\n",
       "    }\n",
       "\n",
       "    .dataframe tbody tr th {\n",
       "        vertical-align: top;\n",
       "    }\n",
       "\n",
       "    .dataframe thead th {\n",
       "        text-align: right;\n",
       "    }\n",
       "</style>\n",
       "<table border=\"1\" class=\"dataframe\">\n",
       "  <thead>\n",
       "    <tr style=\"text-align: right;\">\n",
       "      <th></th>\n",
       "      <th>engine_displacement</th>\n",
       "      <th>num_cylinders</th>\n",
       "      <th>horsepower</th>\n",
       "      <th>vehicle_weight</th>\n",
       "      <th>acceleration</th>\n",
       "      <th>model_year</th>\n",
       "      <th>num_doors</th>\n",
       "      <th>fuel_efficiency_mpg</th>\n",
       "    </tr>\n",
       "  </thead>\n",
       "  <tbody>\n",
       "    <tr>\n",
       "      <th>count</th>\n",
       "      <td>9704.000000</td>\n",
       "      <td>9222.000000</td>\n",
       "      <td>8996.000000</td>\n",
       "      <td>9704.000000</td>\n",
       "      <td>8774.000000</td>\n",
       "      <td>9704.000000</td>\n",
       "      <td>9202.000000</td>\n",
       "      <td>9704.000000</td>\n",
       "    </tr>\n",
       "    <tr>\n",
       "      <th>mean</th>\n",
       "      <td>199.708368</td>\n",
       "      <td>3.962481</td>\n",
       "      <td>149.657292</td>\n",
       "      <td>3001.280993</td>\n",
       "      <td>15.021928</td>\n",
       "      <td>2011.484027</td>\n",
       "      <td>-0.006412</td>\n",
       "      <td>14.985243</td>\n",
       "    </tr>\n",
       "    <tr>\n",
       "      <th>std</th>\n",
       "      <td>49.455319</td>\n",
       "      <td>1.999323</td>\n",
       "      <td>29.879555</td>\n",
       "      <td>497.894860</td>\n",
       "      <td>2.510339</td>\n",
       "      <td>6.659808</td>\n",
       "      <td>1.048162</td>\n",
       "      <td>2.556468</td>\n",
       "    </tr>\n",
       "    <tr>\n",
       "      <th>min</th>\n",
       "      <td>10.000000</td>\n",
       "      <td>0.000000</td>\n",
       "      <td>37.000000</td>\n",
       "      <td>952.681761</td>\n",
       "      <td>6.000000</td>\n",
       "      <td>2000.000000</td>\n",
       "      <td>-4.000000</td>\n",
       "      <td>6.200971</td>\n",
       "    </tr>\n",
       "    <tr>\n",
       "      <th>25%</th>\n",
       "      <td>170.000000</td>\n",
       "      <td>3.000000</td>\n",
       "      <td>130.000000</td>\n",
       "      <td>2666.248985</td>\n",
       "      <td>13.300000</td>\n",
       "      <td>2006.000000</td>\n",
       "      <td>-1.000000</td>\n",
       "      <td>13.267459</td>\n",
       "    </tr>\n",
       "    <tr>\n",
       "      <th>50%</th>\n",
       "      <td>200.000000</td>\n",
       "      <td>4.000000</td>\n",
       "      <td>149.000000</td>\n",
       "      <td>2993.226296</td>\n",
       "      <td>15.000000</td>\n",
       "      <td>2012.000000</td>\n",
       "      <td>0.000000</td>\n",
       "      <td>15.006037</td>\n",
       "    </tr>\n",
       "    <tr>\n",
       "      <th>75%</th>\n",
       "      <td>230.000000</td>\n",
       "      <td>5.000000</td>\n",
       "      <td>170.000000</td>\n",
       "      <td>3334.957039</td>\n",
       "      <td>16.700000</td>\n",
       "      <td>2017.000000</td>\n",
       "      <td>1.000000</td>\n",
       "      <td>16.707965</td>\n",
       "    </tr>\n",
       "    <tr>\n",
       "      <th>max</th>\n",
       "      <td>380.000000</td>\n",
       "      <td>13.000000</td>\n",
       "      <td>271.000000</td>\n",
       "      <td>4739.077089</td>\n",
       "      <td>24.300000</td>\n",
       "      <td>2023.000000</td>\n",
       "      <td>4.000000</td>\n",
       "      <td>25.967222</td>\n",
       "    </tr>\n",
       "  </tbody>\n",
       "</table>\n",
       "</div>"
      ],
      "text/plain": [
       "       engine_displacement  num_cylinders   horsepower  vehicle_weight  \\\n",
       "count          9704.000000    9222.000000  8996.000000     9704.000000   \n",
       "mean            199.708368       3.962481   149.657292     3001.280993   \n",
       "std              49.455319       1.999323    29.879555      497.894860   \n",
       "min              10.000000       0.000000    37.000000      952.681761   \n",
       "25%             170.000000       3.000000   130.000000     2666.248985   \n",
       "50%             200.000000       4.000000   149.000000     2993.226296   \n",
       "75%             230.000000       5.000000   170.000000     3334.957039   \n",
       "max             380.000000      13.000000   271.000000     4739.077089   \n",
       "\n",
       "       acceleration   model_year    num_doors  fuel_efficiency_mpg  \n",
       "count   8774.000000  9704.000000  9202.000000          9704.000000  \n",
       "mean      15.021928  2011.484027    -0.006412            14.985243  \n",
       "std        2.510339     6.659808     1.048162             2.556468  \n",
       "min        6.000000  2000.000000    -4.000000             6.200971  \n",
       "25%       13.300000  2006.000000    -1.000000            13.267459  \n",
       "50%       15.000000  2012.000000     0.000000            15.006037  \n",
       "75%       16.700000  2017.000000     1.000000            16.707965  \n",
       "max       24.300000  2023.000000     4.000000            25.967222  "
      ]
     },
     "execution_count": 98,
     "metadata": {},
     "output_type": "execute_result"
    }
   ],
   "source": [
    "df.describe()"
   ]
  },
  {
   "cell_type": "code",
   "execution_count": 99,
   "id": "8ab1ed2e-26a8-4fe6-9a3f-2b6f16aab2e0",
   "metadata": {},
   "outputs": [],
   "source": [
    "# df_selected_col = df[['engine_displacement', 'horsepower', 'vehicle_weight', 'model_year', 'fuel_efficiency_mpg']]\n",
    "# df_selected_col"
   ]
  },
  {
   "cell_type": "code",
   "execution_count": 100,
   "id": "5b967d7c-5f2e-415e-bf2b-09ac2851cd12",
   "metadata": {},
   "outputs": [],
   "source": [
    "selected_cols = ['engine_displacement', 'horsepower', 'vehicle_weight', 'model_year', 'fuel_efficiency_mpg']\n",
    "df_selected = df[selected_cols]"
   ]
  },
  {
   "cell_type": "code",
   "execution_count": 101,
   "id": "9a6e152c-b726-483a-a229-d5a0cbb2c1d4",
   "metadata": {},
   "outputs": [
    {
     "data": {
      "text/plain": [
       "engine_displacement      0\n",
       "horsepower             708\n",
       "vehicle_weight           0\n",
       "model_year               0\n",
       "fuel_efficiency_mpg      0\n",
       "dtype: int64"
      ]
     },
     "execution_count": 101,
     "metadata": {},
     "output_type": "execute_result"
    }
   ],
   "source": [
    "# Question 1\n",
    "# There's one column with missing values. What is it?\n",
    "\n",
    "df_selected.isnull().sum()"
   ]
  },
  {
   "cell_type": "code",
   "execution_count": 102,
   "id": "3a653554-4d64-47b0-b17c-6d89f034a388",
   "metadata": {},
   "outputs": [
    {
     "data": {
      "text/plain": [
       "np.float64(149.0)"
      ]
     },
     "execution_count": 102,
     "metadata": {},
     "output_type": "execute_result"
    }
   ],
   "source": [
    "# Question 2\n",
    "# What's the median (50% percentile) for variable 'horsepower'?\n",
    "\n",
    "median_horsepower = df_selected['horsepower'].median()\n",
    "median_horsepower"
   ]
  },
  {
   "cell_type": "code",
   "execution_count": 103,
   "id": "ef2cad83-198a-4c4c-9945-50742a1c561f",
   "metadata": {},
   "outputs": [],
   "source": [
    "n = len(df_selected) \n",
    "\n",
    "n_val = int( n * 0.2)\n",
    "n_test = int( n * 0.2)\n",
    "n_train = n - n_val - n_test"
   ]
  },
  {
   "cell_type": "code",
   "execution_count": 104,
   "id": "42b1dd7d-cdae-4bb6-85fd-ff39261ea4df",
   "metadata": {},
   "outputs": [
    {
     "data": {
      "text/plain": [
       "9704"
      ]
     },
     "execution_count": 104,
     "metadata": {},
     "output_type": "execute_result"
    }
   ],
   "source": [
    "n"
   ]
  },
  {
   "cell_type": "code",
   "execution_count": 105,
   "id": "929efd4b-f22e-4f78-8d29-872c39835a1c",
   "metadata": {},
   "outputs": [
    {
     "data": {
      "text/plain": [
       "9704"
      ]
     },
     "execution_count": 105,
     "metadata": {},
     "output_type": "execute_result"
    }
   ],
   "source": [
    "n_val + n_test + n_train"
   ]
  },
  {
   "cell_type": "code",
   "execution_count": 106,
   "id": "1084f76e-6e83-4b7e-856b-1ee1888af872",
   "metadata": {},
   "outputs": [
    {
     "data": {
      "text/plain": [
       "(1940, 1940, 5824)"
      ]
     },
     "execution_count": 106,
     "metadata": {},
     "output_type": "execute_result"
    }
   ],
   "source": [
    "n_val, n_test, n_train"
   ]
  },
  {
   "cell_type": "code",
   "execution_count": 108,
   "id": "37780586-4c1f-42b8-b985-c6c2effcd356",
   "metadata": {},
   "outputs": [],
   "source": [
    "idx = np.arange(n)\n",
    "np.random.seed(42)\n",
    "np.random.shuffle(idx)"
   ]
  },
  {
   "cell_type": "code",
   "execution_count": 109,
   "id": "be85927d-2145-441c-adb2-038f314152ba",
   "metadata": {},
   "outputs": [],
   "source": [
    "df_train = df_selected.iloc[:n_train]\n",
    "df_val = df_selected.iloc[n_train:n_train+n_val]\n",
    "df_test = df_selected.iloc[n_train+n_val:]"
   ]
  },
  {
   "cell_type": "code",
   "execution_count": 110,
   "id": "36fa4160-6e8f-4109-b122-5255b2f99309",
   "metadata": {},
   "outputs": [
    {
     "data": {
      "text/html": [
       "<div>\n",
       "<style scoped>\n",
       "    .dataframe tbody tr th:only-of-type {\n",
       "        vertical-align: middle;\n",
       "    }\n",
       "\n",
       "    .dataframe tbody tr th {\n",
       "        vertical-align: top;\n",
       "    }\n",
       "\n",
       "    .dataframe thead th {\n",
       "        text-align: right;\n",
       "    }\n",
       "</style>\n",
       "<table border=\"1\" class=\"dataframe\">\n",
       "  <thead>\n",
       "    <tr style=\"text-align: right;\">\n",
       "      <th></th>\n",
       "      <th>engine_displacement</th>\n",
       "      <th>horsepower</th>\n",
       "      <th>vehicle_weight</th>\n",
       "      <th>model_year</th>\n",
       "      <th>fuel_efficiency_mpg</th>\n",
       "    </tr>\n",
       "  </thead>\n",
       "  <tbody>\n",
       "    <tr>\n",
       "      <th>0</th>\n",
       "      <td>170</td>\n",
       "      <td>159.0</td>\n",
       "      <td>3413.433759</td>\n",
       "      <td>2003</td>\n",
       "      <td>13.231729</td>\n",
       "    </tr>\n",
       "    <tr>\n",
       "      <th>1</th>\n",
       "      <td>130</td>\n",
       "      <td>97.0</td>\n",
       "      <td>3149.664934</td>\n",
       "      <td>2007</td>\n",
       "      <td>13.688217</td>\n",
       "    </tr>\n",
       "    <tr>\n",
       "      <th>2</th>\n",
       "      <td>170</td>\n",
       "      <td>78.0</td>\n",
       "      <td>3079.038997</td>\n",
       "      <td>2018</td>\n",
       "      <td>14.246341</td>\n",
       "    </tr>\n",
       "    <tr>\n",
       "      <th>3</th>\n",
       "      <td>220</td>\n",
       "      <td>NaN</td>\n",
       "      <td>2542.392402</td>\n",
       "      <td>2009</td>\n",
       "      <td>16.912736</td>\n",
       "    </tr>\n",
       "    <tr>\n",
       "      <th>4</th>\n",
       "      <td>210</td>\n",
       "      <td>140.0</td>\n",
       "      <td>3460.870990</td>\n",
       "      <td>2009</td>\n",
       "      <td>12.488369</td>\n",
       "    </tr>\n",
       "  </tbody>\n",
       "</table>\n",
       "</div>"
      ],
      "text/plain": [
       "   engine_displacement  horsepower  vehicle_weight  model_year  \\\n",
       "0                  170       159.0     3413.433759        2003   \n",
       "1                  130        97.0     3149.664934        2007   \n",
       "2                  170        78.0     3079.038997        2018   \n",
       "3                  220         NaN     2542.392402        2009   \n",
       "4                  210       140.0     3460.870990        2009   \n",
       "\n",
       "   fuel_efficiency_mpg  \n",
       "0            13.231729  \n",
       "1            13.688217  \n",
       "2            14.246341  \n",
       "3            16.912736  \n",
       "4            12.488369  "
      ]
     },
     "execution_count": 110,
     "metadata": {},
     "output_type": "execute_result"
    }
   ],
   "source": [
    "df_train.head()"
   ]
  },
  {
   "cell_type": "code",
   "execution_count": 111,
   "id": "2fb50a1a-415f-4055-b396-b441a00056c1",
   "metadata": {},
   "outputs": [
    {
     "data": {
      "text/plain": [
       "(5824, 1940, 1940)"
      ]
     },
     "execution_count": 111,
     "metadata": {},
     "output_type": "execute_result"
    }
   ],
   "source": [
    "len(df_train), len(df_val), len(df_test)"
   ]
  },
  {
   "cell_type": "code",
   "execution_count": 112,
   "id": "67f2df84-3aa7-4d1f-8747-11625c068882",
   "metadata": {},
   "outputs": [],
   "source": [
    "df_train = df_train.reset_index(drop=True).copy()\n",
    "df_val = df_val.reset_index(drop=True).copy()\n",
    "df_test = df_test.reset_index(drop=True).copy()"
   ]
  },
  {
   "cell_type": "code",
   "execution_count": 113,
   "id": "1cee8e07-e211-40e8-baea-2c047ab9dfbe",
   "metadata": {},
   "outputs": [],
   "source": [
    "# y_train = np.log1p(df_train.msrp.values)\n",
    "# y_val = np.log1p(df_val.msrp.values)\n",
    "# y_test = np.log1p(df_test.msrp.values)"
   ]
  },
  {
   "cell_type": "code",
   "execution_count": 114,
   "id": "21cbae99-ac3e-40ef-aa83-4d50f37c8c4b",
   "metadata": {},
   "outputs": [],
   "source": [
    "base = ['engine_displacement', 'horsepower', 'vehicle_weight', 'model_year']\n",
    "target = 'fuel_efficiency_mpg'\n",
    "\n",
    "def prepare_X(df):\n",
    "    return df[base].copy()"
   ]
  },
  {
   "cell_type": "code",
   "execution_count": 115,
   "id": "5df55cb2-d695-4a1f-9741-2973ba6042bd",
   "metadata": {},
   "outputs": [
    {
     "name": "stdout",
     "output_type": "stream",
     "text": [
      "RMSE (fill 0): 0.27\n"
     ]
    }
   ],
   "source": [
    "# Option 1 - Fill with 0\n",
    "\n",
    "df_train_0 = prepare_X(df_train).fillna(0)\n",
    "df_val_0   = prepare_X(df_val).fillna(0)\n",
    "\n",
    "y_train = df_train[target].values\n",
    "y_val   = df_val[target].values\n",
    "\n",
    "model_0 = LinearRegression()\n",
    "model_0.fit(df_train_0, y_train)\n",
    "pred_0  = model_0.predict(df_val_0)\n",
    "\n",
    "rmse_0  = mean_squared_error(y_val, pred_0)\n",
    "print(\"RMSE (fill 0):\", round(rmse_0, 2))"
   ]
  },
  {
   "cell_type": "code",
   "execution_count": 116,
   "id": "cbcd8059-518d-4f33-899a-4fcdc5179c34",
   "metadata": {},
   "outputs": [
    {
     "name": "stdout",
     "output_type": "stream",
     "text": [
      "RMSE (fill mean): 0.46\n"
     ]
    }
   ],
   "source": [
    "# Option 2 - Fill with the mean of this variable\n",
    "\n",
    "df_train_mean = prepare_X(df_train).copy()\n",
    "df_val_mean   = prepare_X(df_val).copy()\n",
    "\n",
    "means = df_train_mean.mean()\n",
    "df_train_mean = df_train_mean.fillna(means)\n",
    "df_val_mean   = df_val_mean.fillna(means)\n",
    "\n",
    "model_mean = LinearRegression()\n",
    "model_mean.fit(df_train_mean, y_train)\n",
    "pred_mean = model_mean.predict(df_val_mean)\n",
    "\n",
    "mse_mean = mean_squared_error(y_val, pred_mean)\n",
    "rmse_mean = np.sqrt(mse_mean)\n",
    "print(\"RMSE (fill mean):\", round(rmse_mean, 2))"
   ]
  },
  {
   "cell_type": "code",
   "execution_count": 117,
   "id": "14bff7e1-1c4e-44a5-a7ec-bd17096a6512",
   "metadata": {},
   "outputs": [
    {
     "name": "stdout",
     "output_type": "stream",
     "text": [
      "→ Filling with 0 gives better RMSE.\n"
     ]
    }
   ],
   "source": [
    "# Which option give better RMSE?\n",
    "\n",
    "if round(rmse_0, 2) < round(rmse_mean, 2):\n",
    "    print(\"→ Filling with 0 gives better RMSE.\")\n",
    "elif round(rmse_0, 2) > round(rmse_mean, 2):\n",
    "    print(\"→ Filling with mean gives better RMSE.\")\n",
    "else:\n",
    "    print(\"→ Both are equally good.\")"
   ]
  },
  {
   "cell_type": "code",
   "execution_count": 121,
   "id": "e688ea42-de20-4dcd-80f2-6a74490ed45b",
   "metadata": {},
   "outputs": [],
   "source": [
    "# Question 4\n",
    "\n",
    "def prepare_X_zero(df: pd.DataFrame) -> pd.DataFrame:\n",
    "    # 1) select features\n",
    "    X = df.loc[:, base].copy()\n",
    "    # 2) coerce to numeric (strings -> NaN)\n",
    "    X = X.apply(pd.to_numeric, errors='coerce')\n",
    "    # 3) fill NaNs with 0 as required\n",
    "    X = X.fillna(0)\n",
    "    return X\n",
    "\n",
    "def prepare_y(df: pd.DataFrame) -> np.ndarray:\n",
    "    y = pd.to_numeric(df[target], errors='coerce').to_numpy()\n",
    "    return y"
   ]
  },
  {
   "cell_type": "code",
   "execution_count": 122,
   "id": "d9eb81ec-27f0-413d-a1b9-82bc726e7d8e",
   "metadata": {},
   "outputs": [],
   "source": [
    "# Step 1 — Prepare train/val data (fill NA with 0)\n",
    "X_train = prepare_X_zero(df_train)\n",
    "X_val   = prepare_X_zero(df_val)\n",
    "y_train = prepare_y(df_train)\n",
    "y_val   = prepare_y(df_val)"
   ]
  },
  {
   "cell_type": "code",
   "execution_count": 123,
   "id": "446e063b-3339-46f6-a378-3205a96cdb55",
   "metadata": {},
   "outputs": [
    {
     "name": "stdout",
     "output_type": "stream",
     "text": [
      "r=0: RMSE=0.52\n",
      "r=0.01: RMSE=0.52\n",
      "r=0.1: RMSE=0.52\n",
      "r=1: RMSE=0.52\n",
      "r=5: RMSE=0.52\n",
      "r=10: RMSE=0.52\n",
      "r=100: RMSE=0.52\n"
     ]
    }
   ],
   "source": [
    "# Step 2 — Train Ridge models with different r values\n",
    "r_values = [0, 0.01, 0.1, 1, 5, 10, 100]\n",
    "rmse_scores = {}\n",
    "\n",
    "for r in r_values:\n",
    "    model = Ridge(alpha=r)\n",
    "    model.fit(X_train, y_train)\n",
    "    pred = model.predict(X_val)\n",
    "    mse = mean_squared_error(y_val, pred)\n",
    "    rmse = np.sqrt(mse)\n",
    "    rmse_scores[r] = round(rmse, 2)\n",
    "    print(f\"r={r}: RMSE={round(rmse, 2)}\")"
   ]
  },
  {
   "cell_type": "code",
   "execution_count": 124,
   "id": "99e98ee9-25c2-4ecd-9529-19e7a4c19f57",
   "metadata": {},
   "outputs": [
    {
     "name": "stdout",
     "output_type": "stream",
     "text": [
      "\n",
      "Best r: 0\n"
     ]
    }
   ],
   "source": [
    "# Step 3 — Find the best r (lowest RMSE; smallest if tie)\n",
    "best_r = min(rmse_scores, key=lambda x: (rmse_scores[x], x))\n",
    "print(\"\\nBest r:\", best_r)"
   ]
  },
  {
   "cell_type": "code",
   "execution_count": 128,
   "id": "14de2eaa-e71d-410d-a81f-e3bd008a53e6",
   "metadata": {},
   "outputs": [],
   "source": [
    "# Question 5\n",
    "\n",
    "# Setup\n",
    "base = ['engine_displacement', 'horsepower', 'vehicle_weight', 'model_year']\n",
    "target = 'fuel_efficiency_mpg'\n",
    "\n",
    "def prepare_X(df):\n",
    "    X = df[base].copy()\n",
    "    X = X.apply(pd.to_numeric, errors='coerce').fillna(0)\n",
    "    return X\n",
    "\n",
    "def prepare_y(df):\n",
    "    return pd.to_numeric(df[target], errors='coerce').to_numpy()"
   ]
  },
  {
   "cell_type": "code",
   "execution_count": 129,
   "id": "b5b2e440-3dff-48ab-a085-9737f8132fee",
   "metadata": {},
   "outputs": [
    {
     "name": "stdout",
     "output_type": "stream",
     "text": [
      "Seed 0: RMSE = 0.521\n",
      "Seed 1: RMSE = 0.522\n",
      "Seed 2: RMSE = 0.523\n",
      "Seed 3: RMSE = 0.516\n",
      "Seed 4: RMSE = 0.511\n",
      "Seed 5: RMSE = 0.529\n",
      "Seed 6: RMSE = 0.532\n",
      "Seed 7: RMSE = 0.51\n",
      "Seed 8: RMSE = 0.515\n",
      "Seed 9: RMSE = 0.513\n"
     ]
    }
   ],
   "source": [
    "# Try different random seeds\n",
    "seeds = [0,1,2,3,4,5,6,7,8,9]\n",
    "rmse_scores = []\n",
    "\n",
    "for seed in seeds:\n",
    "    # Shuffle\n",
    "    df_shuffled = df_selected.sample(frac=1, random_state=seed).reset_index(drop=True)\n",
    "    \n",
    "    # Split 60/20/20\n",
    "    n = len(df_shuffled)\n",
    "    n_train = int(0.6 * n)\n",
    "    n_val   = int(0.2 * n)\n",
    "    n_test  = n - n_train - n_val\n",
    "    \n",
    "    df_train = df_shuffled.iloc[:n_train].copy()\n",
    "    df_val   = df_shuffled.iloc[n_train:n_train+n_val].copy()\n",
    "    df_test  = df_shuffled.iloc[n_train+n_val:].copy()\n",
    "    \n",
    "    # Prepare data\n",
    "    X_train = prepare_X(df_train)\n",
    "    X_val   = prepare_X(df_val)\n",
    "    y_train = prepare_y(df_train)\n",
    "    y_val   = prepare_y(df_val)\n",
    "    \n",
    "    # Train plain linear regression (no regularization)\n",
    "    model = LinearRegression()\n",
    "    model.fit(X_train, y_train)\n",
    "    pred = model.predict(X_val)\n",
    "    \n",
    "    mse = mean_squared_error(y_val, pred)\n",
    "    rmse = np.sqrt(mse)\n",
    "    \n",
    "    rmse_scores.append(round(rmse, 3))\n",
    "    print(f\"Seed {seed}: RMSE = {round(rmse, 3)}\")"
   ]
  },
  {
   "cell_type": "code",
   "execution_count": 130,
   "id": "fc87aa82-3f6f-472c-ad93-65c4d1104a3f",
   "metadata": {},
   "outputs": [
    {
     "name": "stdout",
     "output_type": "stream",
     "text": [
      "\n",
      "Standard deviation of RMSE: 0.007\n"
     ]
    }
   ],
   "source": [
    "# Compute std of RMSE scores\n",
    "std = np.std(rmse_scores)\n",
    "print(\"\\nStandard deviation of RMSE:\", round(std, 3))"
   ]
  },
  {
   "cell_type": "code",
   "execution_count": 131,
   "id": "75a1d5ef-8430-4b9b-9e10-a3bc83190140",
   "metadata": {},
   "outputs": [],
   "source": [
    "# Question 6\n",
    "\n",
    "idx = np.arange(n)\n",
    "np.random.seed(9)\n",
    "np.random.shuffle(idx)"
   ]
  },
  {
   "cell_type": "code",
   "execution_count": 132,
   "id": "787008ad-e1ef-4c3c-b3e0-2cccd9d82294",
   "metadata": {},
   "outputs": [],
   "source": [
    "# Step 1 — Split with seed = 9\n",
    "\n",
    "df_train = df_selected.iloc[:n_train]\n",
    "df_val = df_selected.iloc[n_train:n_train+n_val]\n",
    "df_test = df_selected.iloc[n_train+n_val:]"
   ]
  },
  {
   "cell_type": "code",
   "execution_count": 133,
   "id": "d3b739ac-5749-4fb3-ae24-b444ef092561",
   "metadata": {},
   "outputs": [],
   "source": [
    "# Step 2 — Combine train + val\n",
    "\n",
    "df_full_train = pd.concat([df_train, df_val]).reset_index(drop=True)"
   ]
  },
  {
   "cell_type": "code",
   "execution_count": 134,
   "id": "ca3df3ba-7c67-497b-a7ce-d62d5028bd5a",
   "metadata": {},
   "outputs": [],
   "source": [
    "# Step 3 — Prepare data (fill NAs with 0)\n",
    "\n",
    "base = ['engine_displacement', 'horsepower', 'vehicle_weight', 'model_year']\n",
    "target = 'fuel_efficiency_mpg'\n",
    "\n",
    "def prepare_X(df):\n",
    "    X = df[base].copy()\n",
    "    X = X.apply(pd.to_numeric, errors='coerce').fillna(0)\n",
    "    return X\n",
    "\n",
    "def prepare_y(df):\n",
    "    return pd.to_numeric(df[target], errors='coerce').to_numpy()\n",
    "\n",
    "X_full_train = prepare_X(df_full_train)\n",
    "y_full_train = prepare_y(df_full_train)\n",
    "X_test       = prepare_X(df_test)\n",
    "y_test       = prepare_y(df_test)"
   ]
  },
  {
   "cell_type": "code",
   "execution_count": 135,
   "id": "8dd30b40-9087-443f-b835-79b3a33f49e6",
   "metadata": {},
   "outputs": [],
   "source": [
    "# Step 4 — Train Ridge model (r = 0.001)\n",
    "\n",
    "model = Ridge(alpha=0.001)\n",
    "model.fit(X_full_train, y_full_train)\n",
    "pred_test = model.predict(X_test)"
   ]
  },
  {
   "cell_type": "code",
   "execution_count": 139,
   "id": "d8abd13e-e70b-4b93-9f00-2b76c1bc24bc",
   "metadata": {},
   "outputs": [
    {
     "name": "stdout",
     "output_type": "stream",
     "text": [
      "RMSE on test: 0.511\n"
     ]
    }
   ],
   "source": [
    "# Step 5 — Evaluate RMSE\n",
    "\n",
    "mse_test = mean_squared_error(y_test, pred_test)\n",
    "rmse_test = np.sqrt(mse_test)\n",
    "print(\"RMSE on test:\", round(rmse_test, 3))"
   ]
  },
  {
   "cell_type": "code",
   "execution_count": null,
   "id": "e7d60ad0-468c-4d1a-b832-79deab23afe5",
   "metadata": {},
   "outputs": [],
   "source": []
  }
 ],
 "metadata": {
  "kernelspec": {
   "display_name": "Python 3 (ipykernel)",
   "language": "python",
   "name": "python3"
  },
  "language_info": {
   "codemirror_mode": {
    "name": "ipython",
    "version": 3
   },
   "file_extension": ".py",
   "mimetype": "text/x-python",
   "name": "python",
   "nbconvert_exporter": "python",
   "pygments_lexer": "ipython3",
   "version": "3.12.1"
  }
 },
 "nbformat": 4,
 "nbformat_minor": 5
}
