{
 "cells": [
  {
   "cell_type": "code",
   "execution_count": 84,
   "id": "a01df7df-f7b0-421a-8112-a762b3b8b0c8",
   "metadata": {},
   "outputs": [
    {
     "data": {
      "text/html": [
       "<div>\n",
       "<style scoped>\n",
       "    .dataframe tbody tr th:only-of-type {\n",
       "        vertical-align: middle;\n",
       "    }\n",
       "\n",
       "    .dataframe tbody tr th {\n",
       "        vertical-align: top;\n",
       "    }\n",
       "\n",
       "    .dataframe thead th {\n",
       "        text-align: right;\n",
       "    }\n",
       "</style>\n",
       "<table border=\"1\" class=\"dataframe\">\n",
       "  <thead>\n",
       "    <tr style=\"text-align: right;\">\n",
       "      <th></th>\n",
       "      <th>lead_source</th>\n",
       "      <th>industry</th>\n",
       "      <th>number_of_courses_viewed</th>\n",
       "      <th>annual_income</th>\n",
       "      <th>employment_status</th>\n",
       "      <th>location</th>\n",
       "      <th>interaction_count</th>\n",
       "      <th>lead_score</th>\n",
       "      <th>converted</th>\n",
       "    </tr>\n",
       "  </thead>\n",
       "  <tbody>\n",
       "    <tr>\n",
       "      <th>0</th>\n",
       "      <td>paid_ads</td>\n",
       "      <td>NaN</td>\n",
       "      <td>1</td>\n",
       "      <td>79450.0</td>\n",
       "      <td>unemployed</td>\n",
       "      <td>south_america</td>\n",
       "      <td>4</td>\n",
       "      <td>0.94</td>\n",
       "      <td>1</td>\n",
       "    </tr>\n",
       "    <tr>\n",
       "      <th>1</th>\n",
       "      <td>social_media</td>\n",
       "      <td>retail</td>\n",
       "      <td>1</td>\n",
       "      <td>46992.0</td>\n",
       "      <td>employed</td>\n",
       "      <td>south_america</td>\n",
       "      <td>1</td>\n",
       "      <td>0.80</td>\n",
       "      <td>0</td>\n",
       "    </tr>\n",
       "    <tr>\n",
       "      <th>2</th>\n",
       "      <td>events</td>\n",
       "      <td>healthcare</td>\n",
       "      <td>5</td>\n",
       "      <td>78796.0</td>\n",
       "      <td>unemployed</td>\n",
       "      <td>australia</td>\n",
       "      <td>3</td>\n",
       "      <td>0.69</td>\n",
       "      <td>1</td>\n",
       "    </tr>\n",
       "    <tr>\n",
       "      <th>3</th>\n",
       "      <td>paid_ads</td>\n",
       "      <td>retail</td>\n",
       "      <td>2</td>\n",
       "      <td>83843.0</td>\n",
       "      <td>NaN</td>\n",
       "      <td>australia</td>\n",
       "      <td>1</td>\n",
       "      <td>0.87</td>\n",
       "      <td>0</td>\n",
       "    </tr>\n",
       "    <tr>\n",
       "      <th>4</th>\n",
       "      <td>referral</td>\n",
       "      <td>education</td>\n",
       "      <td>3</td>\n",
       "      <td>85012.0</td>\n",
       "      <td>self_employed</td>\n",
       "      <td>europe</td>\n",
       "      <td>3</td>\n",
       "      <td>0.62</td>\n",
       "      <td>1</td>\n",
       "    </tr>\n",
       "  </tbody>\n",
       "</table>\n",
       "</div>"
      ],
      "text/plain": [
       "    lead_source    industry  number_of_courses_viewed  annual_income  \\\n",
       "0      paid_ads         NaN                         1        79450.0   \n",
       "1  social_media      retail                         1        46992.0   \n",
       "2        events  healthcare                         5        78796.0   \n",
       "3      paid_ads      retail                         2        83843.0   \n",
       "4      referral   education                         3        85012.0   \n",
       "\n",
       "  employment_status       location  interaction_count  lead_score  converted  \n",
       "0        unemployed  south_america                  4        0.94          1  \n",
       "1          employed  south_america                  1        0.80          0  \n",
       "2        unemployed      australia                  3        0.69          1  \n",
       "3               NaN      australia                  1        0.87          0  \n",
       "4     self_employed         europe                  3        0.62          1  "
      ]
     },
     "execution_count": 84,
     "metadata": {},
     "output_type": "execute_result"
    }
   ],
   "source": [
    "import pandas as pd\n",
    "import numpy as np\n",
    "import matplotlib.pyplot as plt\n",
    "from sklearn.model_selection import train_test_split\n",
    "from sklearn.metrics import roc_auc_score, precision_score, recall_score\n",
    "from sklearn.feature_extraction import DictVectorizer\n",
    "from sklearn.linear_model import LogisticRegression\n",
    "from sklearn.model_selection import KFold\n",
    "\n",
    "# Load the dataset\n",
    "df = pd.read_csv('https://raw.githubusercontent.com/alexeygrigorev/datasets/master/course_lead_scoring.csv')\n",
    "df.head()"
   ]
  },
  {
   "cell_type": "code",
   "execution_count": 85,
   "id": "944b1ada-56ce-459a-a846-c2d516f52494",
   "metadata": {},
   "outputs": [
    {
     "name": "stdout",
     "output_type": "stream",
     "text": [
      "Missing values per column:\n"
     ]
    },
    {
     "data": {
      "text/plain": [
       "lead_source                 128\n",
       "industry                    134\n",
       "number_of_courses_viewed      0\n",
       "annual_income               181\n",
       "employment_status           100\n",
       "location                     63\n",
       "interaction_count             0\n",
       "lead_score                    0\n",
       "converted                     0\n",
       "dtype: int64"
      ]
     },
     "execution_count": 85,
     "metadata": {},
     "output_type": "execute_result"
    }
   ],
   "source": [
    "print(\"Missing values per column:\")\n",
    "df.isnull().sum()"
   ]
  },
  {
   "cell_type": "code",
   "execution_count": 86,
   "id": "4de489eb-645e-496b-8896-e5a894e78436",
   "metadata": {},
   "outputs": [
    {
     "name": "stdout",
     "output_type": "stream",
     "text": [
      "Missing values per column:\n"
     ]
    },
    {
     "data": {
      "text/plain": [
       "lead_source                 0\n",
       "industry                    0\n",
       "number_of_courses_viewed    0\n",
       "annual_income               0\n",
       "employment_status           0\n",
       "location                    0\n",
       "interaction_count           0\n",
       "lead_score                  0\n",
       "converted                   0\n",
       "dtype: int64"
      ]
     },
     "execution_count": 86,
     "metadata": {},
     "output_type": "execute_result"
    }
   ],
   "source": [
    "# Check if the missing values are presented in the features\n",
    "\n",
    "for col in df.columns:\n",
    "    if df[col].dtype == 'object':\n",
    "        df[col] = df[col].fillna('NA')\n",
    "    else:\n",
    "        df[col] = df[col].fillna(0.0)\n",
    "\n",
    "print(\"Missing values per column:\")\n",
    "df.isnull().sum()"
   ]
  },
  {
   "cell_type": "code",
   "execution_count": 87,
   "id": "93eb256f-9e8c-4642-b24c-354876159b30",
   "metadata": {},
   "outputs": [
    {
     "name": "stdout",
     "output_type": "stream",
     "text": [
      "<class 'pandas.core.frame.DataFrame'>\n",
      "RangeIndex: 1462 entries, 0 to 1461\n",
      "Data columns (total 9 columns):\n",
      " #   Column                    Non-Null Count  Dtype  \n",
      "---  ------                    --------------  -----  \n",
      " 0   lead_source               1462 non-null   object \n",
      " 1   industry                  1462 non-null   object \n",
      " 2   number_of_courses_viewed  1462 non-null   int64  \n",
      " 3   annual_income             1462 non-null   float64\n",
      " 4   employment_status         1462 non-null   object \n",
      " 5   location                  1462 non-null   object \n",
      " 6   interaction_count         1462 non-null   int64  \n",
      " 7   lead_score                1462 non-null   float64\n",
      " 8   converted                 1462 non-null   int64  \n",
      "dtypes: float64(2), int64(3), object(4)\n",
      "memory usage: 102.9+ KB\n"
     ]
    }
   ],
   "source": [
    "# Information of the dataset\n",
    "\n",
    "df.info()"
   ]
  },
  {
   "cell_type": "code",
   "execution_count": 88,
   "id": "0bd3c156-3bf1-4592-877f-ddf13e4e506f",
   "metadata": {},
   "outputs": [],
   "source": [
    "# 3. Split the data into train/validation/test (60%/20%/20%)\n",
    "\n",
    "df_train, df_temp = train_test_split(df, test_size=0.4, random_state=1)\n",
    "\n",
    "df_val, df_test = train_test_split(df_temp, test_size=0.5, random_state=1)"
   ]
  },
  {
   "cell_type": "code",
   "execution_count": 89,
   "id": "dd662378-f43d-4479-bd0f-22fe3a43d567",
   "metadata": {},
   "outputs": [
    {
     "data": {
      "text/html": [
       "<div>\n",
       "<style scoped>\n",
       "    .dataframe tbody tr th:only-of-type {\n",
       "        vertical-align: middle;\n",
       "    }\n",
       "\n",
       "    .dataframe tbody tr th {\n",
       "        vertical-align: top;\n",
       "    }\n",
       "\n",
       "    .dataframe thead th {\n",
       "        text-align: right;\n",
       "    }\n",
       "</style>\n",
       "<table border=\"1\" class=\"dataframe\">\n",
       "  <thead>\n",
       "    <tr style=\"text-align: right;\">\n",
       "      <th></th>\n",
       "      <th>lead_score</th>\n",
       "      <th>number_of_courses_viewed</th>\n",
       "      <th>interaction_count</th>\n",
       "      <th>annual_income</th>\n",
       "    </tr>\n",
       "  </thead>\n",
       "  <tbody>\n",
       "    <tr>\n",
       "      <th>340</th>\n",
       "      <td>0.43</td>\n",
       "      <td>3</td>\n",
       "      <td>1</td>\n",
       "      <td>69033.0</td>\n",
       "    </tr>\n",
       "    <tr>\n",
       "      <th>596</th>\n",
       "      <td>0.52</td>\n",
       "      <td>3</td>\n",
       "      <td>0</td>\n",
       "      <td>0.0</td>\n",
       "    </tr>\n",
       "    <tr>\n",
       "      <th>457</th>\n",
       "      <td>0.87</td>\n",
       "      <td>1</td>\n",
       "      <td>7</td>\n",
       "      <td>68118.0</td>\n",
       "    </tr>\n",
       "    <tr>\n",
       "      <th>175</th>\n",
       "      <td>0.53</td>\n",
       "      <td>0</td>\n",
       "      <td>5</td>\n",
       "      <td>65044.0</td>\n",
       "    </tr>\n",
       "    <tr>\n",
       "      <th>549</th>\n",
       "      <td>0.89</td>\n",
       "      <td>5</td>\n",
       "      <td>0</td>\n",
       "      <td>48327.0</td>\n",
       "    </tr>\n",
       "    <tr>\n",
       "      <th>...</th>\n",
       "      <td>...</td>\n",
       "      <td>...</td>\n",
       "      <td>...</td>\n",
       "      <td>...</td>\n",
       "    </tr>\n",
       "    <tr>\n",
       "      <th>715</th>\n",
       "      <td>0.88</td>\n",
       "      <td>2</td>\n",
       "      <td>0</td>\n",
       "      <td>35103.0</td>\n",
       "    </tr>\n",
       "    <tr>\n",
       "      <th>905</th>\n",
       "      <td>0.64</td>\n",
       "      <td>1</td>\n",
       "      <td>5</td>\n",
       "      <td>66006.0</td>\n",
       "    </tr>\n",
       "    <tr>\n",
       "      <th>1096</th>\n",
       "      <td>0.07</td>\n",
       "      <td>2</td>\n",
       "      <td>2</td>\n",
       "      <td>73688.0</td>\n",
       "    </tr>\n",
       "    <tr>\n",
       "      <th>235</th>\n",
       "      <td>0.49</td>\n",
       "      <td>2</td>\n",
       "      <td>3</td>\n",
       "      <td>76723.0</td>\n",
       "    </tr>\n",
       "    <tr>\n",
       "      <th>1061</th>\n",
       "      <td>0.93</td>\n",
       "      <td>1</td>\n",
       "      <td>4</td>\n",
       "      <td>51441.0</td>\n",
       "    </tr>\n",
       "  </tbody>\n",
       "</table>\n",
       "<p>877 rows × 4 columns</p>\n",
       "</div>"
      ],
      "text/plain": [
       "      lead_score  number_of_courses_viewed  interaction_count  annual_income\n",
       "340         0.43                         3                  1        69033.0\n",
       "596         0.52                         3                  0            0.0\n",
       "457         0.87                         1                  7        68118.0\n",
       "175         0.53                         0                  5        65044.0\n",
       "549         0.89                         5                  0        48327.0\n",
       "...          ...                       ...                ...            ...\n",
       "715         0.88                         2                  0        35103.0\n",
       "905         0.64                         1                  5        66006.0\n",
       "1096        0.07                         2                  2        73688.0\n",
       "235         0.49                         2                  3        76723.0\n",
       "1061        0.93                         1                  4        51441.0\n",
       "\n",
       "[877 rows x 4 columns]"
      ]
     },
     "execution_count": 89,
     "metadata": {},
     "output_type": "execute_result"
    }
   ],
   "source": [
    "df_train[['lead_score', 'number_of_courses_viewed', 'interaction_count', 'annual_income']]"
   ]
  },
  {
   "cell_type": "code",
   "execution_count": 90,
   "id": "023fe16e-0b37-4b22-a99e-0f92d3209eb3",
   "metadata": {
    "scrolled": true
   },
   "outputs": [
    {
     "name": "stdout",
     "output_type": "stream",
     "text": [
      "lead_score: 0.611\n",
      "number_of_courses_viewed: 0.765\n",
      "interaction_count: 0.727\n",
      "annual_income: 0.545\n",
      "\n",
      "Feature with highest AUC: number_of_courses_viewed\n"
     ]
    }
   ],
   "source": [
    "# Q1: ROC AUC feature importance\n",
    "\n",
    "features = ['lead_score', 'number_of_courses_viewed', 'interaction_count', 'annual_income']\n",
    "\n",
    "auc_scores = {}\n",
    "\n",
    "for f in features:\n",
    "    score = roc_auc_score(y_train, df_train[f])\n",
    "    \n",
    "    if score < 0.5:\n",
    "        score = roc_auc_score(y_train, -df_train[f])\n",
    "        \n",
    "    auc_scores[f] = score\n",
    "    print(f\"{f}: {score:.3f}\")\n",
    "\n",
    "best_feature = max(auc_scores, key=auc_scores.get)\n",
    "print(\"\\nFeature with highest AUC:\", best_feature)"
   ]
  },
  {
   "cell_type": "code",
   "execution_count": 91,
   "id": "bfbff26d-609b-44e3-bc87-1bd76c0b2c4d",
   "metadata": {},
   "outputs": [
    {
     "name": "stdout",
     "output_type": "stream",
     "text": [
      "0.794\n"
     ]
    }
   ],
   "source": [
    "# Q2: Training the model\n",
    "\n",
    "y_train = df_train['converted']\n",
    "y_val = df_val['converted']\n",
    "\n",
    "X_train = df_train.drop(columns=['converted'])\n",
    "X_val = df_val.drop(columns=['converted'])\n",
    "\n",
    "dv = DictVectorizer(sparse=True)\n",
    "X_train = dv.fit_transform(X_train.to_dict(orient='records'))\n",
    "X_val = dv.transform(X_val.to_dict(orient='records'))\n",
    "\n",
    "# Train logistic regression\n",
    "model = LogisticRegression(solver='liblinear', C=1.0, max_iter=1000)\n",
    "model.fit(X_train, y_train)\n",
    "\n",
    "y_pred = model.predict_proba(X_val)[:, 1]\n",
    "auc = roc_auc_score(y_val, y_pred)\n",
    "print(round(auc, 3))"
   ]
  },
  {
   "cell_type": "code",
   "execution_count": 92,
   "id": "67928c37-d569-4f3e-acd8-a484f41cb1e1",
   "metadata": {},
   "outputs": [
    {
     "data": {
      "image/png": "[encoded data removed]",
      "text/plain": [
       "<Figure size 640x480 with 1 Axes>"
      ]
     },
     "metadata": {},
     "output_type": "display_data"
    },
    {
     "name": "stdout",
     "output_type": "stream",
     "text": [
      "Intersection threshold: 0.59\n"
     ]
    }
   ],
   "source": [
    "# Q3: Precision and Recall\n",
    "\n",
    "y_pred_proba = model.predict_proba(X_val)[:, 1]\n",
    "\n",
    "thresholds = np.arange(0.0, 1.01, 0.01)\n",
    "precisions, recalls = [], []\n",
    "\n",
    "for t in thresholds:\n",
    "    preds = (y_pred_proba >= t).astype(int)\n",
    "    precisions.append(precision_score(y_val, preds, zero_division=0))\n",
    "    recalls.append(recall_score(y_val, preds, zero_division=0))\n",
    "\n",
    "plt.plot(thresholds, precisions, label='Precision')\n",
    "plt.plot(thresholds, recalls, label='Recall')\n",
    "plt.xlabel('Threshold')\n",
    "plt.ylabel('Score')\n",
    "plt.legend()\n",
    "plt.grid(True)\n",
    "plt.show()\n",
    "\n",
    "diff = np.abs(np.array(precisions) - np.array(recalls))\n",
    "best_t = thresholds[np.argmin(diff)]\n",
    "print(\"Intersection threshold:\", round(best_t, 3))"
   ]
  },
  {
   "cell_type": "code",
   "execution_count": 93,
   "id": "5d665d12-8b1d-4546-8b1b-1a3e86758f97",
   "metadata": {},
   "outputs": [
    {
     "name": "stdout",
     "output_type": "stream",
     "text": [
      "Threshold with highest F1: 0.47\n"
     ]
    }
   ],
   "source": [
    "# Q4: F1 score\n",
    "\n",
    "y_pred_proba = model.predict_proba(X_val)[:, 1]\n",
    "\n",
    "thresholds = np.arange(0.0, 1.01, 0.01)\n",
    "f1_scores = []\n",
    "\n",
    "for t in thresholds:\n",
    "    preds = (y_pred_proba >= t).astype(int)\n",
    "    p = precision_score(y_val, preds, zero_division=0)\n",
    "    r = recall_score(y_val, preds, zero_division=0)\n",
    "    if p + r == 0:\n",
    "        f1 = 0\n",
    "    else:\n",
    "        f1 = 2 * p * r / (p + r)\n",
    "    f1_scores.append(f1)\n",
    "\n",
    "best_t = thresholds[np.argmax(f1_scores)]\n",
    "print(\"Threshold with highest F1:\", round(best_t, 3))"
   ]
  },
  {
   "cell_type": "code",
   "execution_count": 94,
   "id": "f0d47af6-5f53-4b67-b980-7ddd8494cdea",
   "metadata": {},
   "outputs": [
    {
     "name": "stdout",
     "output_type": "stream",
     "text": [
      "Standard deviation: 0.022\n"
     ]
    }
   ],
   "source": [
    "# Q5: 5-Fold CV\n",
    "\n",
    "df_full_train = pd.concat([df_train, df_val])\n",
    "\n",
    "# Target and features\n",
    "y = df_full_train['converted']\n",
    "X = df_full_train.drop(columns=['converted'])\n",
    "\n",
    "# 5-Fold CV\n",
    "kfold = KFold(n_splits=5, shuffle=True, random_state=1)\n",
    "scores = []\n",
    "\n",
    "for train_idx, val_idx in kfold.split(X):\n",
    "    X_train, X_val = X.iloc[train_idx], X.iloc[val_idx]\n",
    "    y_train, y_val = y.iloc[train_idx], y.iloc[val_idx]\n",
    "\n",
    "    dv = DictVectorizer(sparse=True)\n",
    "    X_train = dv.fit_transform(X_train.to_dict(orient='records'))\n",
    "    X_val = dv.transform(X_val.to_dict(orient='records'))\n",
    "\n",
    "    model = LogisticRegression(solver='liblinear', C=1.0, max_iter=1000)\n",
    "    model.fit(X_train, y_train)\n",
    "\n",
    "    y_pred = model.predict_proba(X_val)[:, 1]\n",
    "    scores.append(roc_auc_score(y_val, y_pred))\n",
    "\n",
    "print(\"Standard deviation:\", round(np.std(scores), 4))"
   ]
  },
  {
   "cell_type": "code",
   "execution_count": 96,
   "id": "2ad5adab-12cd-4fb5-a863-2746835ec9ed",
   "metadata": {},
   "outputs": [
    {
     "name": "stdout",
     "output_type": "stream",
     "text": [
      "{'C': 1e-06, 'mean': 0.543, 'std': 0.025}\n",
      "{'C': 0.001, 'mean': 0.864, 'std': 0.014}\n",
      "{'C': 1, 'mean': 0.825, 'std': 0.022}\n",
      "\n",
      "Best: {'C': 0.001, 'mean': 0.864, 'std': 0.014}\n"
     ]
    }
   ],
   "source": [
    "# Question 6: Hyperparameter Tuning\n",
    "\n",
    "y = df_full_train['converted'].astype(int)\n",
    "X = df_full_train.drop(columns=['converted'])\n",
    "\n",
    "kfold = KFold(n_splits=5, shuffle=True, random_state=1)\n",
    "Cs = [1e-6, 1e-3, 1]\n",
    "\n",
    "results = []\n",
    "for C in Cs:\n",
    "    scores = []\n",
    "    for tr_idx, va_idx in kfold.split(X):\n",
    "        X_tr, X_va = X.iloc[tr_idx], X.iloc[va_idx]\n",
    "        y_tr, y_va = y.iloc[tr_idx], y.iloc[va_idx]\n",
    "\n",
    "        dv = DictVectorizer(sparse=True)\n",
    "        X_tr_dv = dv.fit_transform(X_tr.to_dict(orient='records'))\n",
    "        X_va_dv = dv.transform(X_va.to_dict(orient='records'))\n",
    "\n",
    "        model = LogisticRegression(solver='liblinear', C=C, max_iter=1000)\n",
    "        model.fit(X_tr_dv, y_tr)\n",
    "\n",
    "        p = model.predict_proba(X_va_dv)[:, 1]\n",
    "        scores.append(roc_auc_score(y_va, p))\n",
    "\n",
    "    mean_auc = round(float(np.mean(scores)), 3)\n",
    "    std_auc  = round(float(np.std(scores)), 3)\n",
    "    results.append({'C': C, 'mean': mean_auc, 'std': std_auc})\n",
    "\n",
    "for r in results:\n",
    "    print(r)\n",
    "\n",
    "best = min(results, key=lambda r: (-r['mean'], r['std'], r['C']))\n",
    "print(\"\\nBest:\", best)"
   ]
  },
  {
   "cell_type": "code",
   "execution_count": null,
   "id": "09c88a51-0e70-4c13-91ab-a9130532e6e8",
   "metadata": {},
   "outputs": [],
   "source": []
  }
 ],
 "metadata": {
  "kernelspec": {
   "display_name": "Python 3 (ipykernel)",
   "language": "python",
   "name": "python3"
  },
  "language_info": {
   "codemirror_mode": {
    "name": "ipython",
    "version": 3
   },
   "file_extension": ".py",
   "mimetype": "text/x-python",
   "name": "python",
   "nbconvert_exporter": "python",
   "pygments_lexer": "ipython3",
   "version": "3.12.1"
  }
 },
 "nbformat": 4,
 "nbformat_minor": 5
}
